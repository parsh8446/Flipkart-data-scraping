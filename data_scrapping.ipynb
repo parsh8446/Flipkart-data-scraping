# importing all necessary scripts or libraries 
import pandas as pd 
from bs4 import BeautifulSoup
import numpy as np
import requests


# Getting data from website in text format

name_list =[]       # Name of products on flipkart 
price_list = []     # and the price of that product 

# You can add or create more lists for more info such as star ratings etc 

product = 'laptop'   # This is product which i want get all imformation from that site 

#url = 'https://www.flipkart.com/search?q=iphones&otracker=search&otracker1=search&marketplace=FLIPKART&as-show=on&as=off&page='

url = 'https://www.flipkart.com/search?q='
rurl = '&otracker=search&otracker1=search&marketplace=FLIPKART&as-show=on&as=off&page='


class webscreapping:
    
    def __init__(self,url):
        
        for page in range(1,10):        # How many pages: 1 to 10
            r = requests.get(url +str(product) + rurl + str(page))  
            data = r.content
            soup = BeautifulSoup(data, "html.parser") # parsing html parcer to data
            names = soup.findAll('div', attrs = {'class': '_4rR01T'})    #This is class for that particuar name value in Html code
            prices = soup.findAll('div', attrs = {'class': '_30jeq3 _1_WHN1'})
            
            for name in names:
                name_list.append(name.text)
            for price in prices:
                price_list.append(price.text)


    
    
def processingdata(name_list,price_list):
    df = pd.DataFrame()
    df['Name'] = name_list
    df['Price'] = price_list
    df["Price"] = df["Price"].str.replace("₹","")  # Removing ₹80,000 '₹' from price 
    df["Price"] = df["Price"].str.replace(",","")  # Removing 80,000 ',' from price
    df["Price"] = pd.to_numeric(df["Price"])       # Converting it in numbers
    df.to_csv("flipkart_laptops2.csv", index =False) # exporting file in csv 
    print("_____________ Data Scrapping 100% Done ________________")
        
ws1 = webscreapping(url)
processingdata(name_list,price_list)

    
