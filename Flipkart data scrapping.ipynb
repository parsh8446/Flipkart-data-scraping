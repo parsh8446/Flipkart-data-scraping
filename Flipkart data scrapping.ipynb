{
 "cells": [
  {
   "cell_type": "code",
   "execution_count": 1,
   "id": "25c13e2b",
   "metadata": {},
   "outputs": [],
   "source": [
    "# importing all necessary scripts or libraries \n",
    "import pandas as pd \n",
    "from bs4 import BeautifulSoup\n",
    "import numpy as np\n",
    "import requests\n"
   ]
  },
  {
   "cell_type": "code",
   "execution_count": 2,
   "id": "5d200571",
   "metadata": {
    "scrolled": true
   },
   "outputs": [
    {
     "name": "stdout",
     "output_type": "stream",
     "text": [
      "_____________ Data Scrapping 100% Done ________________\n"
     ]
    }
   ],
   "source": [
    "# Getting data from website in text format\n",
    "\n",
    "name_list =[]       # Name of products on flipkart \n",
    "price_list = []     # and the price of that product \n",
    "\n",
    "# You can add or create more lists for more info such as star ratings etc \n",
    "\n",
    "product = 'laptop'   # This is product which i want get all imformation from that site \n",
    "\n",
    "#url = 'https://www.flipkart.com/search?q=iphones&otracker=search&otracker1=search&marketplace=FLIPKART&as-show=on&as=off&page='\n",
    "\n",
    "url = 'https://www.flipkart.com/search?q='\n",
    "rurl = '&otracker=search&otracker1=search&marketplace=FLIPKART&as-show=on&as=off&page='\n",
    "\n",
    "\n",
    "class webscreapping:\n",
    "    \n",
    "    def __init__(self,url):\n",
    "        \n",
    "        for page in range(1,10):        # How many pages: 1 to 10\n",
    "            r = requests.get(url +str(product) + rurl + str(page))  \n",
    "            data = r.content\n",
    "            soup = BeautifulSoup(data, \"html.parser\") # parsing html parcer to data\n",
    "            names = soup.findAll('div', attrs = {'class': '_4rR01T'})    #This is class for that particuar name value in Html code\n",
    "            prices = soup.findAll('div', attrs = {'class': '_30jeq3 _1_WHN1'})\n",
    "            \n",
    "            for name in names:\n",
    "                name_list.append(name.text)\n",
    "            for price in prices:\n",
    "                price_list.append(price.text)\n",
    "\n",
    "\n",
    "    \n",
    "    \n",
    "def processingdata(name_list,price_list):\n",
    "    df = pd.DataFrame()\n",
    "    df['Name'] = name_list\n",
    "    df['Price'] = price_list\n",
    "    df[\"Price\"] = df[\"Price\"].str.replace(\"₹\",\"\")  # Removing ₹80,000 '₹' from price \n",
    "    df[\"Price\"] = df[\"Price\"].str.replace(\",\",\"\")  # Removing 80,000 ',' from price\n",
    "    df[\"Price\"] = pd.to_numeric(df[\"Price\"])       # Converting it in numbers\n",
    "    df.to_csv(\"flipkart_laptops2.csv\", index =False) # exporting file in csv \n",
    "    print(\"_____________ Data Scrapping 100% Done ________________\")\n",
    "        \n",
    "ws1 = webscreapping(url)\n",
    "processingdata(name_list,price_list)\n",
    "\n",
    "    "
   ]
  },
  {
   "cell_type": "code",
   "execution_count": null,
   "id": "7d859fa9",
   "metadata": {},
   "outputs": [],
   "source": []
  }
 ],
 "metadata": {
  "kernelspec": {
   "display_name": "Python 3 (ipykernel)",
   "language": "python",
   "name": "python3"
  },
  "language_info": {
   "codemirror_mode": {
    "name": "ipython",
    "version": 3
   },
   "file_extension": ".py",
   "mimetype": "text/x-python",
   "name": "python",
   "nbconvert_exporter": "python",
   "pygments_lexer": "ipython3",
   "version": "3.8.12"
  }
 },
 "nbformat": 4,
 "nbformat_minor": 5
}
